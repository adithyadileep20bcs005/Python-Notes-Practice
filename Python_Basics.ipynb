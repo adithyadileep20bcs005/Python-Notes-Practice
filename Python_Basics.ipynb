{
  "nbformat": 4,
  "nbformat_minor": 0,
  "metadata": {
    "colab": {
      "name": "Python Basics.ipynb",
      "provenance": [],
      "collapsed_sections": [],
      "authorship_tag": "ABX9TyNykF9kgpIkr3Y4FX7oDG5J",
      "include_colab_link": true
    },
    "kernelspec": {
      "name": "python3",
      "display_name": "Python 3"
    },
    "language_info": {
      "name": "python"
    }
  },
  "cells": [
    {
      "cell_type": "markdown",
      "metadata": {
        "id": "view-in-github",
        "colab_type": "text"
      },
      "source": [
        "<a href=\"https://colab.research.google.com/github/adithyadileep20bcs005/Python-Notes-Practice/blob/main/Python_Basics.ipynb\" target=\"_parent\"><img src=\"https://colab.research.google.com/assets/colab-badge.svg\" alt=\"Open In Colab\"/></a>"
      ]
    },
    {
      "cell_type": "markdown",
      "metadata": {
        "id": "caeA3dGyceRh"
      },
      "source": [
        "#Python Basics\n",
        "ADITHYA DILEEP, 20BCS005, IIIT Dharwad"
      ]
    },
    {
      "cell_type": "markdown",
      "metadata": {
        "id": "rNtG450ddGQ7"
      },
      "source": [
        "###Keywords\n",
        "* Reserved words\n",
        "* Not used as variable name, function name or any other identifier\n",
        "* Case sensitive\n",
        "\n",
        "*All the keywords except  variables such as True , False and None are in lowercase*\n",
        "###Identifiers\n",
        "* Name given to entities like class, function, variable, etc\n",
        "* Help to differentiate one entity from another\n",
        "####Rules for writing Identifiers\n",
        "1. Can be a combination of letters in lowercase or uppercase, digits and underscore\n",
        "2. Cannot start with a digit\n",
        "3. Special symbols and keywords cannot be used as identifiers\n",
        "\n",
        "\n",
        "\n",
        "\n"
      ]
    },
    {
      "cell_type": "markdown",
      "metadata": {
        "id": "3QkXayjafLAd"
      },
      "source": [
        "###Statements\n",
        "Statements are instructions that a python interpreter can execute\n",
        "\n",
        "For Example: Assignment statements, Conditional statements(if), Loop statements(for,while), etc\n",
        "####Multiline Statements\n",
        "We can make a statement extend over multiple lines with the line continuation character (\\\\)"
      ]
    },
    {
      "cell_type": "code",
      "metadata": {
        "colab": {
          "base_uri": "https://localhost:8080/"
        },
        "id": "YbqZLPpBb0kY",
        "outputId": "7c3775e8-5af8-48ec-afe6-2a5ab73faa2e"
      },
      "source": [
        "a = 2  #This is an assignment statement\n",
        "if(a<5):\n",
        "  print(\"This is an if statement as well as a conditional statement\")\n",
        "for i in range(0,a):\n",
        "  print(\"This is a for loop statement\")\n",
        "while a>0:\n",
        "  print(\"This is a while loop statement\")\n",
        "  a-=1\n",
        "\n",
        "# Multiline statements\n",
        "sum = 10 + 20 + \\\n",
        "      30 + 20 + \\\n",
        "      20\n",
        "total = ( 10 + 20 + \n",
        "         30 + 20 +\n",
        "         20)\n",
        "print(\"Sum =\", sum, \"Total =\", total)"
      ],
      "execution_count": null,
      "outputs": [
        {
          "output_type": "stream",
          "name": "stdout",
          "text": [
            "This is an if statement as well as a conditional statement\n",
            "This is a for loop statement\n",
            "This is a for loop statement\n",
            "This is a while loop statement\n",
            "This is a while loop statement\n",
            "Sum = 100 Total = 100\n"
          ]
        }
      ]
    },
    {
      "cell_type": "markdown",
      "metadata": {
        "id": "nfOqHUFViJIV"
      },
      "source": [
        "###Indentation\n",
        "* Used to define a block of code\n",
        "* It can be ignored in line continuation"
      ]
    },
    {
      "cell_type": "code",
      "metadata": {
        "colab": {
          "base_uri": "https://localhost:8080/"
        },
        "id": "7r6Z7N1fifmj",
        "outputId": "5ec67c21-0285-4ee4-dbba-ffab657f7ef6"
      },
      "source": [
        "for i in range(0,5):\n",
        "  print(i)\n",
        "  if i == 1:\n",
        "    break\n",
        "if i == True: print(\"True\"); a=10; print(a)"
      ],
      "execution_count": null,
      "outputs": [
        {
          "output_type": "stream",
          "name": "stdout",
          "text": [
            "0\n",
            "1\n",
            "True\n",
            "10\n"
          ]
        }
      ]
    },
    {
      "cell_type": "markdown",
      "metadata": {
        "id": "dO7AUo1LjBM3"
      },
      "source": [
        "###Comments\n",
        "* Used to describe the program functioning in more detail\n",
        "* Hash(#) symbol is used to start a comment\n",
        "* Python interpreter ignores comments\n",
        "####Multiline Comments\n",
        "* Either we can use # symbol in each line, otherwise, we can use triple quotes enclosing the whole comment\n",
        "####Docstrings in Python\n",
        "* Docstring is short for Documentation string\n",
        "* Syntax is similar to multiline comments of using triple quotes\n",
        "* Appear right after the definition of a function, class, or a module which differentiates it from comments\n",
        "* Associated with the object as their `__doc__` attribute"
      ]
    },
    {
      "cell_type": "code",
      "metadata": {
        "colab": {
          "base_uri": "https://localhost:8080/"
        },
        "id": "cklP56ZCk67f",
        "outputId": "8ed6bf9a-f00d-41a9-e4ac-a738d72e53f1"
      },
      "source": [
        "\"\"\"This is\n",
        "an example of \n",
        "multiline comment\"\"\"\n",
        "# This is also a comment\n",
        "\n",
        "def func():\n",
        "  \"\"\"This is a docstring\"\"\"\n",
        "  pass\n",
        "print(func.__doc__)"
      ],
      "execution_count": null,
      "outputs": [
        {
          "output_type": "stream",
          "name": "stdout",
          "text": [
            "This is a docstring\n"
          ]
        }
      ]
    },
    {
      "cell_type": "markdown",
      "metadata": {
        "id": "6aIeiaXclbjt"
      },
      "source": [
        "###Variables\n",
        "* Named location used to store data in the memory\n",
        "* Assignment operator (`=`) is used to assign a value to a variable\n",
        "* Data in the variable cannot be changed, trying to change the value will create a new variable with the same name"
      ]
    },
    {
      "cell_type": "code",
      "metadata": {
        "colab": {
          "base_uri": "https://localhost:8080/"
        },
        "id": "tDCBepEJmGi0",
        "outputId": "2b815c92-ef57-4f7b-8769-1440d2a08fc4"
      },
      "source": [
        "a = 5\n",
        "print(\"Address of variable =\",id(a))\n",
        "a = 10\n",
        "print(\"Present address of variable after changing its value =\",id(a))\n",
        "\n",
        "# Multiple Assignment\n",
        "x,y = 5,6\n",
        "print(\"x =\", x, \"\\ty =\", y)"
      ],
      "execution_count": null,
      "outputs": [
        {
          "output_type": "stream",
          "name": "stdout",
          "text": [
            "Address of variable = 94719699253888\n",
            "Present address of variable after changing its value = 94719699254048\n",
            "x = 5 \ty = 6\n"
          ]
        }
      ]
    },
    {
      "cell_type": "markdown",
      "metadata": {
        "id": "2TSPs-vAo_Z7"
      },
      "source": [
        "###Constants\n",
        "It is a type of variable whose value cannot be changed\n",
        "\n",
        "A file can be created which contains all the required constants. This file can be imported in another program file to use them.\n",
        "\n",
        "*store all constants in a file, let it be Constants.py*\n",
        "```\n",
        "pi = 3.14\n",
        "G = 6.67e-10\n",
        ".... all the required constants\n",
        "```\n",
        "These can be used in another program as:\n",
        "```\n",
        "import Constant\n",
        "print(pi)\n",
        "print(G)\n",
        "```\n",
        "The above code will print those constants declared in the file"
      ]
    },
    {
      "cell_type": "markdown",
      "metadata": {
        "id": "dVmGP7MEwkcP"
      },
      "source": [
        "###Literals\n",
        "Literal is a raw data given in a variable or constant. Python has various types of literals:\n",
        "1. Numeric Literals - These are immutable(unchangeable). It can be integer, float, or complex numerical literal.\n",
        "2. String Literals - These are a sequence of characters surrounded by quotes. Single, double, or triple quotes can be used for defining a string. Character literal is a single character surrounded by single or double quotes.\n",
        "3. Boolean Literals - It can have any of the value `True` or `False` representing `1` or `0` respectively\n",
        "4. Special Literal - `None` is a special literal. It is used to specify that the field is not created.\n",
        "5. Literal Collections - List, Tuple, Dictionary and Set literals."
      ]
    },
    {
      "cell_type": "code",
      "metadata": {
        "colab": {
          "base_uri": "https://localhost:8080/"
        },
        "id": "SwMSDasIyeYL",
        "outputId": "ea6f694d-aa82-40aa-cf33-50b62914924f"
      },
      "source": [
        "# Numeric Literals\n",
        "bin = 0b1000    # Binary literal\n",
        "dec = 8         # Decimal literal\n",
        "oct = 0o10      # Octal literal\n",
        "hex = 0x08      # Hexadecimal literal\n",
        "flt1 = 3.5      # Float literal\n",
        "flt2 = 1.6e2    # Float literal of value 1.6 * (10)^2 = 160\n",
        "i = 3 + 2j      # Complex literal of value 3+2j, j=sqrt(-1)\n",
        "print(\"Numeric Literals :\", bin, dec, oct, hex, flt1, flt2, i)\n",
        "\n",
        "# String Literals\n",
        "name = \"Adithya Dileep\"\n",
        "Unicode = u\"\\u00dcnic\\u00f6de\"\n",
        "raw_str = r\"raw\\nstring\"\n",
        "print(\"String Literals :\", name, Unicode, raw_str)\n",
        "\n",
        "# Boolean Literals\n",
        "b1 = (1 == True)\n",
        "b2 = (1 == False)\n",
        "true4 = 4 + True      # True=1, so true4=4+1=5\n",
        "false4 = 4 + False    # False=0, so false4=4+0=4\n",
        "print(\"Boolean Literals :\", b1, b2, true4, false4)\n",
        "\n",
        "# Special Literal - None\n",
        "x = None\n",
        "print(type(None))\n",
        "\n",
        "# Literal Collections\n",
        "Days = [\"Sunday\", \"Monday\", \"Tuesday\", \"Wednesday\", \"Thursday\", \"Friday\", \"Saturday\"]     # List\n",
        "Digits = (0, 1, 2, 3, 4, 5, 6, 7, 8, 9)                 # Tuple\n",
        "Numbers = {0:'Zero', 1:'One', 2:'Two', 3:'Three', 4:'Four'}     # Dictionary\n",
        "Vowels = {'a', 'e', 'i' , 'o', 'u'}     # Set - It will be unordered\n",
        "print(\"Literal Collections :\", Days, Digits, Numbers, Vowels)"
      ],
      "execution_count": null,
      "outputs": [
        {
          "output_type": "stream",
          "name": "stdout",
          "text": [
            "Numeric Literals : 8 8 8 8 3.5 160.0 (3+2j)\n",
            "String Literals : Adithya Dileep Ünicöde raw\\nstring\n",
            "Boolean Literals : True False 5 4\n",
            "<class 'NoneType'>\n",
            "Literal Collections : ['Sunday', 'Monday', 'Tuesday', 'Wednesday', 'Thursday', 'Friday', 'Saturday'] (0, 1, 2, 3, 4, 5, 6, 7, 8, 9) {0: 'Zero', 1: 'One', 2: 'Two', 3: 'Three', 4: 'Four'} {'u', 'a', 'i', 'o', 'e'}\n"
          ]
        }
      ]
    },
    {
      "cell_type": "markdown",
      "metadata": {
        "id": "gfswxy47VXNk"
      },
      "source": [
        "###Variable Types\n",
        "####1. Local Variables\n",
        "* Declared inside the function and have scope within the function\n",
        "* Can be used only in the function in which it is declared\n",
        "####Global Variables\n",
        "* Can be used throughout the program\n",
        "* Declared outside the function and its scope is in the entire program\n",
        "* if we don't use `global` keyword within the function, the function treats it as a local variable"
      ]
    },
    {
      "cell_type": "code",
      "metadata": {
        "colab": {
          "base_uri": "https://localhost:8080/"
        },
        "id": "uv3YA4ion049",
        "outputId": "ea46fb20-36c1-4dcc-eae6-9c407607c267"
      },
      "source": [
        "\n",
        "gsum = 0        # Declare a variable and initialize it\n",
        "def add():  \n",
        "    global gsum        # global keyword is used to use global variable inside function\n",
        "    print(\"Initial value of sum from add() function :\", gsum)\n",
        "    a = 10        # These are local variables which are not accessible outside the function\n",
        "    b = 20\n",
        "    gsum = a + b  \n",
        "    print(\"Changed value of sum from function :\", gsum)\n",
        "\n",
        "add()\n",
        "print(\"Change in global variable outside function :\", gsum)        # The value of gsum is changed in add() function because it was used as a global variable in the function\n",
        "# print(a, b)     # This statement will give an error since a and b are accessible only within add() function\n",
        "del gsum          # del keyword is used to delete gsum\n",
        "# print(gsum)     # This statement will give an error since there is no variable gsum since it was deleted"
      ],
      "execution_count": null,
      "outputs": [
        {
          "output_type": "stream",
          "name": "stdout",
          "text": [
            "Initial value of sum from add() function : 0\n",
            "Changed value of sum from function : 30\n",
            "Change in global variable outside function : 30\n"
          ]
        }
      ]
    },
    {
      "cell_type": "markdown",
      "metadata": {
        "id": "Q6ieDdcG9AVw"
      },
      "source": [
        "###Namespace\n",
        "Names(also called identifiers) is simply a name given to the objects. everything in Python are objects. Name is used to access these objects.\n",
        "* Namespace is a collection of names\n",
        "* It is assumed as a mapping of every name assigned to corresponding objects\n",
        "* Different namespaces can co-exist at a given time but are completely isolated\n",
        "* A namespace containing all the built-in names is created and it exists as long as the interpreter runs. This is the reason that built-in functions like `id()`, `print()` etc. are always available to us from any part of the program\n",
        "* Each module creates its own global namespace\n",
        "* Different namespaces are isolated. Hence, the same name that may exist in different modules does not conflict.\n",
        "* Modules can have various functions and classes. A local namespace is created when a function is called. It is similar to the case with a class.\n",
        "####Variable Scope\n",
        "* Although there are various unique namespaces defined, it may not be possible to access all of them from every part of the program\n",
        "* A scope is the portion of a program from where a namespace can be accessed directly without any prefix\n",
        "* Three common nested scopes are:\n",
        "  1. Scope of the current function which has local names\n",
        "  2. Scope of the module which has global names\n",
        "  3. Outermost scope which has built-in names\n",
        "* When a reference is made inside a function, the name is searched in the local namespace, then in the global namespace and finally in the built-in namespace.\n",
        "If there is a function inside another function, a new scope is nested inside the local scope"
      ]
    },
    {
      "cell_type": "code",
      "metadata": {
        "colab": {
          "base_uri": "https://localhost:8080/"
        },
        "id": "wxg_0_x7_FzU",
        "outputId": "0c0b963e-6570-4871-a809-fc209e14d386"
      },
      "source": [
        "a = 10\n",
        "def outerfn():\n",
        "  a = 20\n",
        "  print(\"Initial value in outer function =\", a)\n",
        "  def innerfn():\n",
        "    a = 30\n",
        "    print(\"Value in inner function =\", a)\n",
        "  innerfn()\n",
        "  print(\"Value in outer function =\", a)\n",
        "print(\"Initial value before function call =\", a)\n",
        "outerfn()\n",
        "print(\"Value after executing function =\", a)"
      ],
      "execution_count": null,
      "outputs": [
        {
          "output_type": "stream",
          "name": "stdout",
          "text": [
            "Initial value before function call = 10\n",
            "Initial value in outer function = 20\n",
            "Value in inner function = 30\n",
            "Value in outer function = 20\n",
            "Value after executing function = 10\n"
          ]
        }
      ]
    },
    {
      "cell_type": "markdown",
      "metadata": {
        "id": "v3du9kH9AaHR"
      },
      "source": [
        "###Data Types\n",
        "Variables can hold values, and every value has a data-type. Python is a dynamically typed language, hence we do not need to define the type of the variable while declaring it. The interpreter implicitly binds the value with its type.\n",
        "####Primitive Data Type\n",
        "* Predefined data type, also known as built-in data type\n",
        "* Basic building block of data\n",
        "* Hold one single value and always has a value. Its size depend upon the data type\n",
        "* It includes bool, int, long,  float, double, string\n",
        "  * Boolean data type comprises of one bit of information to store True/False conditions. It is useful for representing truth values and it is commonly used with standard boolean operators `and`, `or`, `not`\n",
        "  * String data type is used to store a single character enclosed within quotes\n",
        "  * int data type is used to store integer values, float for floating point numbers and so on\n",
        "\n",
        "####Non-Primitive Data Type\n",
        "* More sophisticated members of the data type family\n",
        "* Also called reference data type. They don't store the values but store a reference to that value to refer objects\n",
        "* It can be empty or null and all values have same size since it is of same data type\n",
        "* It includes Strings, Arrays, Classes, Interface, etc.\n",
        "  * String is a sequence of characters\n",
        "  * Arrays are homogenous data structures implemented as objects in Python. It provides indexed access to data items and can store more than value of a specific data type. Specific elements in an array is accessed by its index.\n",
        "  * Class contains fields(variables) and methods(functions) to describe the behaviour of an object\n",
        "\n",
        "####Standard Data Types\n",
        "1. Numeric - Store numeric values\n",
        "  * Integer\n",
        "  * Float\n",
        "  * Complex\n",
        "2. Dictionary - Unordered set of a key-value pair of items separated with comma(`,`) and enclosed in curly braces `{}`. It is optimized for retrieving data using key. Data in it can be of any type. Syntax : `{`Key1`:`Value1`,` Key2`:`Value2`,` ...`}`\n",
        "3. Boolean - Stores a single bit data True(1) or False(0)\n",
        "4. Set - Unordered collection of data type. It is iterable, mutable(can modify after creation), and has unique elements(no repetition). In set, the order of the elements is undefined, so it may return a shuffled sequence of the element. The set is created by using a built-in function set(), or a sequence of elements is passed in the curly braces and separated by the comma. It can contain various types of values.\n",
        "5. Sequence Type - Stores a sequence of data types\n",
        "  * String - Sequence of characters represented in quotation marks. Multiline strings can be denoted by triple quotes(`'''` or `\"\"\"`)\n",
        "  * List - Similar to arrays in C. It can contain data of different types. The items stored in the list are separated with a comma (`,`) and enclosed within square brackets `[]`. Lists are mutable(value of element can be altered). We can use slice `[:]` operators to access the data of the list.\n",
        "  * Tuple - Tuples are similar to Lists, tuples also contain collection of the items of different data types. The items of the tuple are separated with a comma (`,`) and enclosed in parentheses `()`. A tuple is a read-only data structure as we can't modify the size and value of the items of a tuple. Slice operator `[:]` can be used to access the data in tuple.\n",
        "\n",
        "*Indexing cannot be used for unordered sequences*"
      ]
    },
    {
      "cell_type": "code",
      "metadata": {
        "colab": {
          "base_uri": "https://localhost:8080/"
        },
        "id": "6rKPM24YHWOY",
        "outputId": "ec3dc448-9515-49ee-88e0-8faf627e3764"
      },
      "source": [
        "# Primitive Data Type - Stores a single value\n",
        "a = True or False   # Boolean\n",
        "print('a', type(a))\n",
        "b = 'B'             # String\n",
        "print('b', type(b))\n",
        "c = 5               # Integer\n",
        "print('c', type(c))\n",
        "d = 3.5             # Float\n",
        "print('d', type(d))\n",
        "e = 2+3j            # Complex\n",
        "print('e', type(e))\n",
        "\n",
        "# Non-Primitive Data-Type\n",
        "A = \"Hello\"       # String\n",
        "print('A', type(A))\n",
        "B = [1,2,3,4,5]   # Array stored as list\n",
        "print('B', type(B))\n",
        "\n",
        "X = {1:\"One\", 2:\"Two\", 3:\"Three\"}\n",
        "print(\"Dictionary, X =\", type(X))   # Dictionary\n",
        "print(X.keys(), X.values())\n",
        "\n",
        "Y = {\"Hello\", 5, 3, 20.4, \"Welcome\"}\n",
        "print(\"Set, Y =\", type(Y))          # Set\n",
        "print(Y)\n",
        "Y.add(\"Adithya\")\n",
        "print(Y)\n",
        "Y.remove(3)\n",
        "print(Y)\n",
        "Z = set()                         # Set using set()\n",
        "print(\"Set, Z =\", type(Z))\n",
        "Z.add(\"Adithya\")\n",
        "Z.add(\"Dileep\")\n",
        "print(Z)\n",
        "\n",
        "P = (\"Adithya\", \"Dileep\", 5)      # Tuple\n",
        "print(\"Tuple, P =\", type(P))\n",
        "print(P)"
      ],
      "execution_count": null,
      "outputs": [
        {
          "output_type": "stream",
          "name": "stdout",
          "text": [
            "a <class 'bool'>\n",
            "b <class 'str'>\n",
            "c <class 'int'>\n",
            "d <class 'float'>\n",
            "e <class 'complex'>\n",
            "A <class 'str'>\n",
            "B <class 'list'>\n",
            "Dictionary, X = <class 'dict'>\n",
            "dict_keys([1, 2, 3]) dict_values(['One', 'Two', 'Three'])\n",
            "Set, Y = <class 'set'>\n",
            "{3, 5, 'Hello', 'Welcome', 20.4}\n",
            "{3, 5, 'Hello', 'Welcome', 20.4, 'Adithya'}\n",
            "{5, 'Hello', 'Welcome', 20.4, 'Adithya'}\n",
            "Set, Z = <class 'set'>\n",
            "{'Dileep', 'Adithya'}\n",
            "Tuple, P = <class 'tuple'>\n",
            "('Adithya', 'Dileep', 5)\n"
          ]
        }
      ]
    },
    {
      "cell_type": "markdown",
      "metadata": {
        "id": "vHshWdPW2a8s"
      },
      "source": [
        "###Conversion between Data Types ( Type Conversion )\n",
        "The process of converting the value of one data type (integer, string, float, etc) to another data type is called type conversion. Python has two types of type conversion:\n",
        "1. Implicit Type Conversion - Doesn’t need any user involvement\n",
        "  * \n",
        "2. Explicit Type Conversion - Users convert the data type of an object to required data type using the predefined functions like int(), float(), str(), etc"
      ]
    },
    {
      "cell_type": "code",
      "metadata": {
        "colab": {
          "base_uri": "https://localhost:8080/"
        },
        "id": "oFNqdzOh39s-",
        "outputId": "fff6ef78-bd43-4eb2-dbfc-0334f41cf8ee"
      },
      "source": [
        "# Implicit Type Conversion\n",
        "a = 10    # Integer\n",
        "b = 2.5   # Float\n",
        "c = a+b   # Implicit Conversion to float\n",
        "print(f\"a = {a} is {type(a)} \\t b = {b} is {type(b)} \\t c = {c} is {type(c)}\")\n",
        "\n",
        "# Explicit Type Conversion\n",
        "p = 5;      print(\"p =\", p, type(p))\n",
        "q = \"6\";    print(\"q befor explicit type conversion =\", q, type(q))\n",
        "q = int(q); print(\"q after explicit type conversion =\", q, type(q))\n",
        "r = p + q;  print(\"r =\", r, type(r))\n",
        "\n",
        "x = 20;       print(\"x =\", x, type(x))\n",
        "x = float(x); print(\"x =\", x, type(x))\n",
        "y = 3;        print(\"y =\", y, type(y))\n",
        "z = int(x/y); print(\"z =\", z, type(z))"
      ],
      "execution_count": null,
      "outputs": [
        {
          "output_type": "stream",
          "name": "stdout",
          "text": [
            "a = 10 is <class 'int'> \t b = 2.5 is <class 'float'> \t c = 12.5 is <class 'float'>\n",
            "p = 5 <class 'int'>\n",
            "q befor explicit type conversion = 6 <class 'str'>\n",
            "q after explicit type conversion = 6 <class 'int'>\n",
            "r = 11 <class 'int'>\n",
            "x = 20 <class 'int'>\n",
            "x = 20.0 <class 'float'>\n",
            "y = 3 <class 'int'>\n",
            "z = 6 <class 'int'>\n"
          ]
        }
      ]
    },
    {
      "cell_type": "markdown",
      "metadata": {
        "id": "SfO-UjqaJRLE"
      },
      "source": [
        "###Memory and its Management\n",
        "Memory play a vital role in **C** because all variable you declare are at first stored in the memory. Some memory allocation is done at compile time and some at runtime. Memory which is allocated and de-allocated during the execution of the program is known as dynamic memory. Memory expand and shrink as per application requirement and this is one of major advantage of pointer.\n",
        "\n",
        "Python memory management is been divided into two parts:\n",
        "1. Stack memory - Methods and variables are created in Stack memory\n",
        "2. Heap memory - Objects and instance variables values are created in Heap memory\n",
        "\n",
        "In stack memory, a stack frame is created whenever methods and variables are created. These stack frames are destroyed automatically whenever functions/methods return.\n",
        "Python has a mechanism of Garbage collector, as soon as variables and functions returns, Garbage collector clear the dead objects."
      ]
    },
    {
      "cell_type": "markdown",
      "metadata": {
        "id": "dz8MSzoMieS_"
      },
      "source": [
        "###Operators\n",
        "Operators are special symbols in Python that carry out arithmetic or logical computation. The value that the operator operates on is called the operand.\n",
        "* Arithmetic Operators - perform mathematical operations like addition, subtraction, multiplication, etc.\n",
        "  * `+' - Add two operands or unary plus\n",
        "  * `-` - Subtract right operand from left operand or unary minus\n",
        "  * `*` - Multiply two operands\n",
        "  * `/` - Divide left operand by right operand and the result is always float\n",
        "  * `%` - Modulo operator(or modulus) returns remainder of division of left operand by right operand\n",
        "  * `//` - Floor Division, is a division that results into whole number adjusted to the left in the number line which means that it returns only the integer part after performing division of left by right operand\n",
        "  * `**` - Exponentiation, returns the value of left operand raised to the power of right operand\n",
        "* Comparison Operators - Used to compare values, it returns either `True` or `False` according to the condition\n",
        "  * `>` - Greater than, Result is True if left operand is greater than the right\n",
        "  * `<` - Less than, Result is True if left operand is less than the right\n",
        "  * `==` - Equal to, Result is True if both operands are equal\n",
        "  * `!=` - Not equal to, Result is True if operands are not equal\n",
        "  * `>=` - Greater than or equal to, Result isTrue if left operand is greater than or equal to the right\n",
        "  * `<=` - Less than or equal to, Result is True if left operand is less than or equal to the right\n",
        "* Logical Operators\n",
        "  * `and` - Result is True if all the operands are true\n",
        "  * `or` - Result is True if any of the operands is true\n",
        "  * `not` - Result is True if operand is false (complements the operand), it is a unary operator\n",
        "* Bitwise Operators - Act on operands as if they were strings of binary digits. They operate bit by bit\n",
        "  * `&` -\tBitwise AND\n",
        "  * `|` -\tBitwise OR\n",
        "  * `~` -\tBitwise NOT\n",
        "  * `^` - Bitwise XOR\n",
        "  * `>>` - Bitwise right shift\n",
        "  * `<<` - Bitwise left shift\n",
        "* Assignment operators\n",
        "  * `=` - Evaluates the right-hand side of the assignment statement and a reference to the resulting data object is assigned to the variable on the left-hand side\n",
        "  * `+=` - a+=n is equivalent to a=a+n, where a is a variable and n is any number\n",
        "  * `-=` - a-=n is equivalent to a=a-n\n",
        "  * `*=` - a*=n is equivalent to a = a * n\n",
        "  * `/=` - a/=n is equivalent to a=a/n\n",
        "  * `%=` - a%=n is equivalent to a=a%n\n",
        "  * `//=` - a//=n is equivalent to a=a//n\n",
        "  * `**=` - a**=n is equivalent to a = a * * n\n",
        "  * `&=` - a&=n is equivalent to a=a&n\n",
        "  * `|=` - a|=n is equivalent to a=a|n\n",
        "  * `^=` - a^=n is equivalent to a=a^n\n",
        "  * `>>=` - a>>=n is equivalent to a=a>>n\n",
        "  * `<<=` - a<<=n is equivalent to a=a<<n\n",
        "* Special Operators\n",
        "  * Identity Operators - Used to check if two values (or variables) are located on the same part of the memory. Two variables that are equal does not imply that they are identical\n",
        "    * `is` - True if both the operands refers to the same object present in the same memory location\n",
        "    * 'is not` - True if both the operands does not refer to the same object present in the same memory location\n",
        "  * Membership Operators - Used to check whether a value or variable is found in a sequence (string, tuple, set, list, dictionary)\n",
        "    * `in` - True if the left operand is present in the right operand(which is a sequence)\n",
        "    * `not in` - True if the left operand is not present in the right operand(which is a sequence)\n",
        "* Operations on Sequences:\n",
        "  * `[]` - Indexing, to access elements of a data item\n",
        "  * `+` - Concatenation, to combine data items together\n",
        "  * `*` - Repetition, Repeat a given number of times\n",
        "  * `in` - Membership, to check whether an item is in the sequence\n",
        "  * `len` - Length, to get the number of items in the sequence\n",
        "  * `[:]` - Slicing, to extract a part of data item"
      ]
    },
    {
      "cell_type": "code",
      "metadata": {
        "colab": {
          "base_uri": "https://localhost:8080/"
        },
        "id": "3jEttPLWlf8H",
        "outputId": "142aeb70-19ff-451b-e837-29196d641358"
      },
      "source": [
        "# Arithmetic Operators\n",
        "print(\"2 + 3 =\", 2+3)\n",
        "print(\"5 - 2 =\", 5-2)\n",
        "print(\"2 * 3 =\", 2*3)\n",
        "print(\"20 / 3 =\", 20/3)\n",
        "print(\"20 // 3 =\", 20//3)\n",
        "print(\"20 % 3 =\", 20%3)\n",
        "\n",
        "# Comparison Operators\n",
        "print(\"3 < 2 =\", 3<2)\n",
        "print(\"3 > 2 =\", 3>2)\n",
        "print(\"3 == 2 =\", 3==2)\n",
        "print(\"3 != 2 =\", 3!=2)\n",
        "print(\"3 <= 2 =\", 3<=2)\n",
        "print(\"3 >= 2 =\", 3>=2)\n",
        "\n",
        "# Logical Operators\n",
        "print(\"True and False =\", True and False)\n",
        "print(\"True or False =\", True or False)\n",
        "print(\"Not True =\", not True)\n",
        "\n",
        "# Bitwise Operators\n",
        "b1 = 0b1101   # b1=13\n",
        "b2 = 0b1010   # b2=10\n",
        "print(\"b1 =\", b1, \"\\t b2 =\", b2)\n",
        "print(\"b1 & b2 =\", b1&b2)        # 1101 & 1010 = 1000 = 8\n",
        "print(\"b1 | b2 =\", b1|b2)        # 1101 | 1010 = 1111 = 15\n",
        "print(\"~ b1 =\", ~b1)             # ~ 1101 = -(1101+1) = -(1110) = -14\n",
        "print(\"b1 ^ b2 =\", b1^b2)        # 1101 ^ 1010 = 0111 = 7\n",
        "print(\"b1 >> 2 =\", b1>>2)        # 1101 >> 2 = 0011 = 3   It shifts 2 positions towards right(>>n shifts n position towards right)\n",
        "print(\"b1 << 2 =\", b1<<2)        # 1101 << 2 = 0011 0100 = 52   It shifts 2 positions towards left(<<n shifts n position towards left)\n",
        "\n",
        "a = 10;    print(\"a=5 gives a =\", a)\n",
        "a += 2;   print(\"a+=2 gives a =\", a)     # a+=2 = a+2 = 10+2= 12\n",
        "a -= 2;   print(\"a-=2 gives a =\", a)     # a-=2 = a-2 = 12-2= 10\n",
        "a *= 2;   print(\"a*=2 gives a =\", a)     # a*=2 = a*2 = 10*2= 20\n",
        "a /= 2;   print(\"a/=2 gives a =\", a)     # a/=2 = a/2 = 20/2= 10.0\n",
        "a %= 2;   print(\"a%=2 gives a =\", a)     # a%=2 = a%2 = 10%2 = 0\n",
        "a = 5;\n",
        "a //= 2;  print(\"a//=2 gives a =\", a)   # a//=2 = a//2 = 5//2= 2\n",
        "a **= 2;  print(\"a**=2 gives a =\", a)   # a**=2 = a**2 = 2**2= 4\n",
        "a = 7;\n",
        "a &= 10;   print(\"a&=10 gives a =\", a)     # a&=10 = a&10 = 7&10 = 0111 & 1010 = 0010 = 2\n",
        "a |= 10;   print(\"a|=10 gives a =\", a)     # a|=10 = a|10 = 2|10 = 0010 | 1010 = 1010 = 10\n",
        "a ^= 3;    print(\"a^=3 gives a =\", a)     # a^=3 = a^3 = 10^3 = 1010 ^ 0011 = 1001 = 9\n",
        "a >>= 2;   print(\"a>>=2 gives a =\", a)   # a>>=2 = a>>2 = 9>>2 = 1001>>2 = 0010 = 2\n",
        "a <<= 2;   print(\"a<<=2 gives a =\", a)   # a<<=2 = a<<2 = 2<<2 = 0010<<2 = 1000 = 8\n",
        "\n",
        "# Identity Operators\n",
        "x = 10;   y = 10;   z = 20\n",
        "print(\"x is y =\", x is y)\n",
        "print(\"x is not y =\", x is not y)\n",
        "print(\"x is z =\", x is z)\n",
        "print(\"x is not z =\", x is not z)\n",
        "\n",
        "# Membership Operators\n",
        "X = [1,2,3,4,5]\n",
        "print(\"3 in X =\", 3 in X)\n",
        "print(\"3 not in X =\", 3 not in X)\n",
        "print(\"7 in X =\", 7 in X)\n",
        "print(\"7 not in X =\", 7 not in X)\n",
        "\n",
        "# Sequences\n",
        "s = [0,1,2,3,4]\n",
        "t = [5,6,7,8,9]\n",
        "print(\"s[0] =\", s[0])\n",
        "print(\"s + t =\", s+t)\n",
        "print(\"s * 2 =\", s*2)\n",
        "print(\"2 in s =\", 2 in s)\n",
        "print(\"len(s) =\", len(s))\n",
        "print(\"s[1:4] =\", s[1:4])"
      ],
      "execution_count": 5,
      "outputs": [
        {
          "output_type": "stream",
          "name": "stdout",
          "text": [
            "2 + 3 = 5\n",
            "5 - 2 = 3\n",
            "2 * 3 = 6\n",
            "20 / 3 = 6.666666666666667\n",
            "20 // 3 = 6\n",
            "20 % 3 = 2\n",
            "3 < 2 = False\n",
            "3 > 2 = True\n",
            "3 == 2 = False\n",
            "3 != 2 = True\n",
            "3 <= 2 = False\n",
            "3 >= 2 = True\n",
            "True and False = False\n",
            "True or False = True\n",
            "Not True = False\n",
            "b1 = 13 \t b2 = 10\n",
            "b1 & b2 = 8\n",
            "b1 | b2 = 15\n",
            "~ b1 = -14\n",
            "b1 ^ b2 = 7\n",
            "b1 >> 2 = 3\n",
            "b1 << 2 = 52\n",
            "a=5 gives a = 10\n",
            "a+=2 gives a = 12\n",
            "a-=2 gives a = 10\n",
            "a*=2 gives a = 20\n",
            "a/=2 gives a = 10.0\n",
            "a%=2 gives a = 0.0\n",
            "a//=2 gives a = 2\n",
            "a**=2 gives a = 4\n",
            "a&=10 gives a = 2\n",
            "a|=10 gives a = 10\n",
            "a^=3 gives a = 9\n",
            "a>>=2 gives a = 2\n",
            "a<<=2 gives a = 8\n",
            "x is y = True\n",
            "x is not y = False\n",
            "x is z = False\n",
            "x is not z = True\n",
            "3 in X = True\n",
            "3 not in X = False\n",
            "7 in X = False\n",
            "7 not in X = True\n",
            "s[0] = 0\n",
            "s + t = [0, 1, 2, 3, 4, 5, 6, 7, 8, 9]\n",
            "s * 2 = [0, 1, 2, 3, 4, 0, 1, 2, 3, 4]\n",
            "2 in s = True\n",
            "len(s) = 5\n",
            "s[1:4] = [1, 2, 3]\n"
          ]
        }
      ]
    },
    {
      "cell_type": "markdown",
      "metadata": {
        "id": "7xyrhBFanyQt"
      },
      "source": [
        "###Control Structures\n",
        "######1. if...elif...else - Used for decision making\n",
        "Syntax:\n",
        "```\n",
        "# if\n",
        "if test_expression:\n",
        "  statements\n",
        "\n",
        "# if-else\n",
        "if test_expression:\n",
        "  body of if\n",
        "else:\n",
        "  body of else\n",
        "\n",
        "# if-elif-else\n",
        "if test_expression:\n",
        "  body of if\n",
        "elif test_expression:\n",
        "  body of elif\n",
        "elif ...\n",
        "...\n",
        "else:\n",
        "  body of else\n",
        "```\n",
        "The program evaluates the test expression and executes statement(s) only if the test expression is True. If the test expression is False, the statement(s) is(are) not executed\n",
        "######2. Nested if - If one if...elif...else is used in another if...elif...else, it is called nesting\n",
        "######3. For loop - Used to iterate over a sequence(list, tuple and string) or other iterable objects. Iterating over a sequence is called traversal\n",
        "Syntax\n",
        "```\n",
        "# Simple for loop\n",
        "for val in sequence:\n",
        "  loop body\n",
        "\n",
        "# for loop with else\n",
        "for val in sequence:\n",
        "  loop body\n",
        "  # Break can be used to avoid else statement under specific condition\n",
        "  if condition:\n",
        "    break\n",
        "else:\n",
        "  body of else\n",
        "```\n",
        "for loop can have an optional else block as well. The else part is executed if the items in the sequence used in for loop exhausts.\n",
        "This for...else statement can be used with the break keyword to run the else block only when the break keyword was not executed.\n",
        "######4. while loop - Used to iterate over a block of code as long as the test expression(condition) is true\n",
        "In the while loop, test expression is checked first. The body of the loop is entered only if the test_expression evaluates to True. After one iteration, the test expression is checked again. This process continues until the test_expression evaluates to False. Syntax:\n",
        "```\n",
        "while test_condition:\n",
        "  body\n",
        "```"
      ]
    },
    {
      "cell_type": "code",
      "metadata": {
        "colab": {
          "base_uri": "https://localhost:8080/"
        },
        "id": "7IO8ZS0ro4sX",
        "outputId": "97399941-14d6-46e1-bc01-4a2a5945469e"
      },
      "source": [
        "a = 5\n",
        "\n",
        "# if...elif...if\n",
        "if a>0:\n",
        "  print(\"Positive\")\n",
        "elif a<0:\n",
        "  print(\"Negative\")\n",
        "else:\n",
        "  print(\"Zero\")\n",
        "\n",
        "# for loop\n",
        "for i in range(0,5):\n",
        "  print(i)\n",
        "  if i==5:\n",
        "    break\n",
        "else:\n",
        "  print(\"5 is not in sequence\")\n",
        "\n",
        "for i in range(0,5):\n",
        "  print(i)\n",
        "  if i==2:\n",
        "    break\n",
        "else:\n",
        "  print(\"2 is not found in sequence\")\n",
        "\n",
        "# while loop\n",
        "while a>0:\n",
        "  print(\"a is positive and is equal to\", a)\n",
        "  a -= 1"
      ],
      "execution_count": 9,
      "outputs": [
        {
          "output_type": "stream",
          "name": "stdout",
          "text": [
            "Positive\n",
            "0\n",
            "1\n",
            "2\n",
            "3\n",
            "4\n",
            "5 is not in sequence\n",
            "0\n",
            "1\n",
            "2\n",
            "a is positive and is equal to 5\n",
            "a is positive and is equal to 4\n",
            "a is positive and is equal to 3\n",
            "a is positive and is equal to 2\n",
            "a is positive and is equal to 1\n"
          ]
        }
      ]
    },
    {
      "cell_type": "markdown",
      "metadata": {
        "id": "OFEu_XCTyME3"
      },
      "source": [
        "###`slice()`\n",
        "* `slice()` returns a part of a sequence which is in the specified range\n",
        "* Syntax : `slice `( *start*, *stop*, *optional step-size* )\n",
        "\n",
        "###`range()` function\n",
        "* `range()` is used to generate a sequence of numbers. `range(10)` will generate a sequene of 10 numbers from 0 to 9\n",
        "* We can define start, stop and step-size(optional-takes 1 as default if not given)\n",
        "* To force this function to output all the items, we can use the function `list()` or `set()`\n",
        "* Syntax : `range`( *start*, *stop*, *optional step-size* )`\n",
        "\n",
        "###`pass` statement\n",
        "* `pass` statement is used to construct a body that does nothing. Is just a placeholder for  functionality to be added later\n",
        "* Suppose we have a loop or a function that is not implemented yet, but we want to implement it in the future, in that case `pass` is used.\n",
        "\n",
        "###'enumerate()' function\n",
        "* To access the index of each element within the body of a loop. Returns in the format (index, value)"
      ]
    },
    {
      "cell_type": "code",
      "metadata": {
        "colab": {
          "base_uri": "https://localhost:8080/"
        },
        "id": "SeK8ifad72gr",
        "outputId": "b616f926-3c8b-4701-8871-7587dd949f2f"
      },
      "source": [
        "# slice()\n",
        "s = \" My name is Adithya Dileep\"\n",
        "print(s[slice(12,26)])            # Slice of the sequence s from index 11 to 25(stop index excluded) will be displayed\n",
        "print(\"Alternate :\", s[slice(1,26,2)])           # Prints every alternate elements since step-size is 2\n",
        "print(\"Reverse : \", s[slice(-1,0,-1)])           # Prints the string in reverse. Also works with negative indices\n",
        "print(\"Fist 5 characters :\", s[slice(5)])\n",
        "\n",
        "# range()\n",
        "a = range(3)\n",
        "print(a, list(a), set(a))\n",
        "print(list(range(0,10,2)))    # To print all non-negative even numbers less than ten\n",
        "print(list(range(5,10)))    # Prints numbers from from 5 to 10(10 excluded), step-size is taken as 1(default)\n",
        "\n",
        "# pass\n",
        "def func1():\n",
        "  pass          # Does nothing, we can update function body later\n",
        "print(\"Entering function\")\n",
        "func1()\n",
        "print(\"Completed executing function\")\n",
        "if 5<2:\n",
        "  pass\n",
        "  print(\"Here, it is similar to break(possible only in loops)\")\n",
        "print(\"Thank You\\n\")\n",
        "\n",
        "# enumerate()\n",
        "wildanimals = ['Lion', 'Elephant', 'Tiger']\n",
        "print(list(enumerate(wildanimals)))"
      ],
      "execution_count": 63,
      "outputs": [
        {
          "output_type": "stream",
          "name": "stdout",
          "text": [
            "Adithya Dileep\n",
            "Alternate : M aei dty iep\n",
            "Reverse :  peeliD ayhtidA si eman yM\n",
            "Fist 5 characters :  My n\n",
            "range(0, 3) [0, 1, 2] {0, 1, 2}\n",
            "[0, 2, 4, 6, 8]\n",
            "[5, 6, 7, 8, 9]\n",
            "Entering function\n",
            "Completed executing function\n",
            "Thank You\n",
            "\n",
            "[(0, 'Lion'), (1, 'Elephant'), (2, 'Tiger')]\n"
          ]
        }
      ]
    },
    {
      "cell_type": "markdown",
      "metadata": {
        "id": "Ad6fgV1Aku1F"
      },
      "source": [
        "###String Functions\n",
        "* `capitalize()` - Returns the string with first character in upper case and all other characters in lower case\n",
        "* `upper()` - Converts all the characters to upper case\n",
        "* `lower()` - Converts all the characters to lower case\n",
        "* `rjust()` - Returns the string of given length by filling space in the left using given character(optional - takes space as default if not given). Syntax: string.rjust(length, character(optional))\n",
        "* `ljust()` - Returns the string of given length by filling space in the right using given character(optional - takes space as default if not given). Syntax: string.ljust(length, character(optional))\n",
        "* `center()` - Center justifies the string in a given length by filling extra spaces in left and right of the string using given character(optional - takes space as default if not given). Syntax: string.center(length, character(optional))\n",
        "\n",
        "*Note - In rjust(), ljust() and center(), if the length given is lass than or equal to the string, then the string is returned as it is without truncaing it to fit the length*\n",
        "* `replace()` - Replaces a given characters with another characters. Syntax: string.replace('characters to be replaced', 'characters needed in place of replaced characters')\n",
        "* `strip()` - Remove spaces at the start and end of the string"
      ]
    },
    {
      "cell_type": "code",
      "metadata": {
        "colab": {
          "base_uri": "https://localhost:8080/"
        },
        "id": "DjwTb0yxpjCP",
        "outputId": "b729e164-c311-4bc8-f6fc-326f2baadae0"
      },
      "source": [
        "s = \"  My name is Adithya Dileep \"\n",
        "print(s.capitalize())\n",
        "print(s.upper())\n",
        "print(s.lower())\n",
        "print(s.rjust(30))\n",
        "print(s.ljust(30,'*'))\n",
        "print(s.center(30))\n",
        "print(\"Length =\",len(s.center(30)))    # Note that the length changes to the specified length as expected\n",
        "print(s.rjust(5))       # note that the string is returned as it is when length given is smaller than its actual length\n",
        "print(s.replace(\"My name is\", \"This is done by\"))\n",
        "print(s.strip())\n",
        "print(\"Actual length =\", len(s), \"Length after strip =\", len(s.strip()))"
      ],
      "execution_count": 57,
      "outputs": [
        {
          "output_type": "stream",
          "name": "stdout",
          "text": [
            "  my name is adithya dileep \n",
            "  MY NAME IS ADITHYA DILEEP \n",
            "  my name is adithya dileep \n",
            "    My name is Adithya Dileep \n",
            "  My name is Adithya Dileep **\n",
            "   My name is Adithya Dileep  \n",
            "Length = 30\n",
            "  My name is Adithya Dileep \n",
            "  This is done by Adithya Dileep \n",
            "My name is Adithya Dileep\n",
            "Actual length = 28 Length after strip = 25\n"
          ]
        }
      ]
    },
    {
      "cell_type": "markdown",
      "metadata": {
        "id": "YkfYCJNG_ayQ"
      },
      "source": [
        "###Functions\n",
        "Functions are defined using `def` keyword in Python. Syntax:\n",
        "```\n",
        "def function_name(arguments):\n",
        "  body of the function\n",
        "```\n",
        "It is not necessary to have arguments, we can also have optional arguments taking a default value if it is not given while function calling"
      ]
    },
    {
      "cell_type": "code",
      "metadata": {
        "colab": {
          "base_uri": "https://localhost:8080/"
        },
        "id": "kaCK0ZxXATNi",
        "outputId": "95ee1914-1870-4cec-86e4-e971161d6682"
      },
      "source": [
        "def square(n):\n",
        "  return n*n\n",
        "def example(name, optional=\"Thanks\"):\n",
        "  print(optional,name)\n",
        "def no_arg():\n",
        "  print(\"Function with no argument\")\n",
        "print(square(5))\n",
        "example(\"Adithya\", \"Welcome\")\n",
        "example(\"Adithya\")\n",
        "no_arg()"
      ],
      "execution_count": 81,
      "outputs": [
        {
          "output_type": "stream",
          "name": "stdout",
          "text": [
            "25\n",
            "Welcome Adithya\n",
            "Thanks Adithya\n",
            "Function with no argument\n"
          ]
        }
      ]
    },
    {
      "cell_type": "markdown",
      "metadata": {
        "id": "a2_srsaOByH8"
      },
      "source": [
        "###Classes\n",
        "* A class is defined using `class` keyword\n",
        "* Variables in a class are called attributes while the functions in a class are called methods\n",
        "* These instancvariables are accessed or instance methods are called using dot(`.`) operator\n",
        "* `__init__` method(or constructor) is used to initialize the object"
      ]
    },
    {
      "cell_type": "code",
      "metadata": {
        "colab": {
          "base_uri": "https://localhost:8080/"
        },
        "id": "B6yVheh1ETq8",
        "outputId": "ab2d63f7-1529-4911-e0de-6421bad387ae"
      },
      "source": [
        "class Student:\n",
        "  def __init__(self, name):     # Constructor\n",
        "    self.name = name      # Initializing an instance variable\n",
        "  def display(self):      # Initializing an instance method\n",
        "    print(\"Displaying name :\", self.name)\n",
        "s = Student(\"Adithya Dileep\")     # Constructing an instance of Student class\n",
        "print(s.name)       # Accessing intance variable\n",
        "s.display()    # Calling instance method"
      ],
      "execution_count": 89,
      "outputs": [
        {
          "output_type": "stream",
          "name": "stdout",
          "text": [
            "Adithya Dileep\n",
            "Displaying name : Adithya Dileep\n"
          ]
        }
      ]
    },
    {
      "cell_type": "markdown",
      "metadata": {
        "id": "AZpvW4YpS5JK"
      },
      "source": [
        "###More Practice"
      ]
    },
    {
      "cell_type": "code",
      "metadata": {
        "id": "qiYO_mEVTTR_",
        "colab": {
          "base_uri": "https://localhost:8080/"
        },
        "outputId": "f2afa09b-5593-4b54-b21b-9c483d2f8a12"
      },
      "source": [
        "s = \"This is a string\"\n",
        "print(type(s))        # type() returns the datatype of the argument passed\n",
        "a = b = 10            # Multiple declaration, here, a and b will have the same value of 10 as well \n",
        "print(\"a =\", a, \"\\tb =\", b, \"\\tAddress of : a =\", id(a), \"\\tb =\", id(b))        # as same address\n",
        "\n",
        "print(\"Reversing string :\", s[::-1])\n",
        "print(\"\\n\")\n",
        "\n",
        "\n",
        "# Dictionary\n",
        "X = {1:\"One\", 2:\"Two\", 3:\"Three\"}\n",
        "print(X[1])         # Accesing values using key, X[key] returns the value related to key\n",
        "X[4] = \"Four\"       # Adding to the dictionary\n",
        "print(X)\n",
        "print(X.get(3,'Not a key'))     # Access values using key(1st argument), if the key is not in the dictionary, it returns the default(2nd argument)\n",
        "del X[4]        # Remove an element from a dictionary\n",
        "print(X.get(4, 'Not a key'))      # 4 is no longer a key as we deleted it, so prints \"Not a key\"\n",
        "print(X)\n",
        "for key, value in X.items():              # Another way to access elements in dictionary\n",
        "  print(\"Key = {}, Value = {}\".format(key, value))    # Note formatting\n",
        "print(\"\\n\")\n",
        "\n",
        "\n",
        "a = 10; b = 20\n",
        "print(f\"a = {a}, b = {b}, sum = {a+b}\")     # Formatting  print(f\"Something...{variable name or operation}...\")\n",
        "\n",
        "s1 = \"Adithya\"\n",
        "s2 = \"Dileep\"\n",
        "string = \"My {} is {} {}\".format(\"name\", s1, s2)\n",
        "print(string)\n",
        "print(\"\\n\")\n",
        "\n",
        "\n",
        "# Sets\n",
        "animals = {'Tiger', 'Elephant'}\n",
        "print(animals)\n",
        "animals.add('Camel')\n",
        "animals.add('Fox')\n",
        "print(animals)\n",
        "animals.remove('Fox')\n",
        "print(animals, \"\\n\")\n",
        "\n",
        "\n",
        "# Tuples\n",
        "data = {(x, x + 1): x for x in range(5)}  # Create a dictionary with tuple keys\n",
        "print(data, type(data))\n",
        "t = (3, 4)       # Create a tuple\n",
        "print(type(t))\n",
        "print(data[t])       \n",
        "print(data[(1, 2)], \"\\n\")\n",
        "\n",
        "\n",
        "# List Comprehension\n",
        "L1 = [1,2,3,4,5]\n",
        "L2 = []\n",
        "L3 = []\n",
        "for i in L1:\n",
        "  L2.append(i**2)\n",
        "print(L2)\n",
        "L3 = [x**2 for x in L1]\n",
        "print(L3)\n",
        "# Updating in L3 using list comprehension does the same thing as updation done in L2\n",
        "# It can also contain conditions\n",
        "L4 = [x**2 for x in L1 if x%2==0]     # L4 is the list of squares of even numbers from L1\n",
        "print(L4)"
      ],
      "execution_count": 80,
      "outputs": [
        {
          "output_type": "stream",
          "name": "stdout",
          "text": [
            "<class 'str'>\n",
            "a = 10 \tb = 10 \tAddress of : a = 94484153899808 \tb = 94484153899808\n",
            "Reversing string : gnirts a si sihT\n",
            "\n",
            "\n",
            "One\n",
            "{1: 'One', 2: 'Two', 3: 'Three', 4: 'Four'}\n",
            "Three\n",
            "Not a key\n",
            "{1: 'One', 2: 'Two', 3: 'Three'}\n",
            "Key = 1, Value = One\n",
            "Key = 2, Value = Two\n",
            "Key = 3, Value = Three\n",
            "\n",
            "\n",
            "a = 10, b = 20, sum = 30\n",
            "My name is Adithya Dileep\n",
            "\n",
            "\n",
            "{'Elephant', 'Tiger'}\n",
            "{'Elephant', 'Tiger', 'Camel', 'Fox'}\n",
            "{'Elephant', 'Tiger', 'Camel'} \n",
            "\n",
            "{(0, 1): 0, (1, 2): 1, (2, 3): 2, (3, 4): 3, (4, 5): 4} <class 'dict'>\n",
            "<class 'tuple'>\n",
            "3\n",
            "1 \n",
            "\n",
            "[1, 4, 9, 16, 25]\n",
            "[1, 4, 9, 16, 25]\n",
            "[4, 16]\n"
          ]
        }
      ]
    },
    {
      "cell_type": "code",
      "metadata": {
        "colab": {
          "base_uri": "https://localhost:8080/"
        },
        "id": "blOC5GOA0Ye3",
        "outputId": "b68570a1-6433-43e8-f404-e2561d3a977b"
      },
      "source": [
        "data = {(x, x + 1): x for x in range(10)}  # Create a dictionary with tuple keys\n",
        "t = (5, 6)       # Create a tuple\n",
        "print(type(t))\n",
        "print(data[t])       \n",
        "print(data[(1, 2)])"
      ],
      "execution_count": 78,
      "outputs": [
        {
          "output_type": "stream",
          "name": "stdout",
          "text": [
            "<class 'tuple'>\n",
            "5\n",
            "1\n"
          ]
        }
      ]
    },
    {
      "cell_type": "markdown",
      "metadata": {
        "id": "cIEm5zfLHqAN"
      },
      "source": [
        "###Questions"
      ]
    },
    {
      "cell_type": "markdown",
      "metadata": {
        "id": "g56LhQaQHtkV"
      },
      "source": [
        "Write a function that returns the maximum of two numbers"
      ]
    },
    {
      "cell_type": "code",
      "metadata": {
        "colab": {
          "base_uri": "https://localhost:8080/"
        },
        "id": "tJukGVR6H4sa",
        "outputId": "f5dab698-febf-4126-8fe3-afe9c78c1302"
      },
      "source": [
        "def findmax(x, y):\n",
        "  if x>y:\n",
        "    return x\n",
        "  elif y>x:\n",
        "    return Y\n",
        "  else:\n",
        "    return f\"{x}, Both are equal\"\n",
        "a = int(input(\" Enter 1st number : \"))\n",
        "b = int(input(\" Enter 2nd number : \"))\n",
        "print(\" Maximum =\", findmax(a, b))"
      ],
      "execution_count": 21,
      "outputs": [
        {
          "output_type": "stream",
          "name": "stdout",
          "text": [
            " Enter 1st number : 10\n",
            " Enter 2nd number : 10\n",
            " Maximum = 10, Both are equal\n"
          ]
        }
      ]
    },
    {
      "cell_type": "markdown",
      "metadata": {
        "id": "OW2unme6Jkyu"
      },
      "source": [
        "Write a function called numberGame that takes a number:\n",
        "* If the number is divisible by 3, it should return “number”\n",
        "* If it is divisible by 5, it should return “Game”\n",
        "* If it is divisible by both 3 and 5, it should return“numberGame”\n",
        "* Otherwise, it should return the same number"
      ]
    },
    {
      "cell_type": "code",
      "metadata": {
        "colab": {
          "base_uri": "https://localhost:8080/"
        },
        "id": "rmjBA7KEJ6wC",
        "outputId": "54558ea0-4e87-4cf7-c782-bc48592a935b"
      },
      "source": [
        "def numberGame(n):\n",
        "  if n%3 == 0 and n%5 ==0:\n",
        "    return \" numberGame\"\n",
        "  elif n%3 == 0:\n",
        "    return \" number\"\n",
        "  elif n%5 == 0:\n",
        "    return \" Game\"\n",
        "  else:\n",
        "    return n\n",
        "n = int(input(\" Enter number : \"))\n",
        "print(numberGame(n))"
      ],
      "execution_count": 29,
      "outputs": [
        {
          "output_type": "stream",
          "name": "stdout",
          "text": [
            " Enter number : 15\n",
            " numberGame\n"
          ]
        }
      ]
    },
    {
      "cell_type": "markdown",
      "metadata": {
        "id": "jKzaPJl1ML7y"
      },
      "source": [
        "Write a function for checking the speed of drivers. This function should have one parameter: speed\n",
        "* If speed is less than 70, it should print “Ok”\n",
        "* Otherwise, for every 5km above the speed limit (70), it should give the driver one demerit point and print the total number of demerit points. For example, if the speed is 80, it should print: “Points: 2”\n",
        "* If the driver gets more than 12 points, the function should print: “License suspended”"
      ]
    },
    {
      "cell_type": "code",
      "metadata": {
        "colab": {
          "base_uri": "https://localhost:8080/"
        },
        "id": "PUNvDGW0MpZ2",
        "outputId": "69f144f8-1bae-44f1-9e98-5657997b7061"
      },
      "source": [
        "def check_speed(speed):\n",
        "  if speed < 70:\n",
        "    print(\" Ok\")\n",
        "  else:\n",
        "    demerit = (speed-70)//5\n",
        "    print(\" Demerit point =\", demerit)\n",
        "    if demerit > 12:\n",
        "      print(\" License suspended\")\n",
        "s = int(input(\" Enter speed of the driver : \"))\n",
        "check_speed(s)"
      ],
      "execution_count": 32,
      "outputs": [
        {
          "output_type": "stream",
          "name": "stdout",
          "text": [
            " Enter speed of the driver : 80\n",
            " Demerit point = 2\n"
          ]
        }
      ]
    },
    {
      "cell_type": "markdown",
      "metadata": {
        "id": "gFwkMqkFORz-"
      },
      "source": [
        "Write a function called showNumbers that takes a parameter called limit. It should print all the numbers between 0 and limit with a label to identify the even and odd numbers. For example, if the limit is 3, it should print:\n",
        "\n",
        "0 EVEN\n",
        "\n",
        "1 ODD\n",
        "\n",
        "2 EVEN\n",
        "\n",
        "3 ODD"
      ]
    },
    {
      "cell_type": "code",
      "metadata": {
        "colab": {
          "base_uri": "https://localhost:8080/"
        },
        "id": "KQOzdUViO3cU",
        "outputId": "9aab6023-c688-4f5b-eac2-f2c4b221571c"
      },
      "source": [
        "def showNumbers(limit):\n",
        "  for i in range(limit+1):\n",
        "    if i%2 == 0:\n",
        "      print(i, \" EVEN\")\n",
        "    else:\n",
        "      print(i, \"ODD\")\n",
        "l = int(input(\" Enter limit : \"))\n",
        "showNumbers(l)"
      ],
      "execution_count": 35,
      "outputs": [
        {
          "output_type": "stream",
          "name": "stdout",
          "text": [
            " Enter limit : 3\n",
            "0  EVEN\n",
            "1 ODD\n",
            "2  EVEN\n",
            "3 ODD\n"
          ]
        }
      ]
    },
    {
      "cell_type": "markdown",
      "metadata": {
        "id": "kYRsTYz4Qq4H"
      },
      "source": [
        "Write a function called showSigns(rows). If rows is 5, it should print the following:\n",
        "\n",
        "&\n",
        "\n",
        "&&\n",
        "\n",
        "&&&\n",
        "\n",
        "&&&&\n",
        "\n",
        "&&&&&"
      ]
    },
    {
      "cell_type": "code",
      "metadata": {
        "colab": {
          "base_uri": "https://localhost:8080/"
        },
        "id": "H7YvVbK0Q4z9",
        "outputId": "94140d8a-6bda-4e84-849b-2402e7b88fff"
      },
      "source": [
        "def showSigns(rows):\n",
        "  for i in range(rows):\n",
        "    print(\"&\"*(i+1))\n",
        "r = int(input(\" Enter the number of rows : \"))\n",
        "showSigns(r)"
      ],
      "execution_count": 36,
      "outputs": [
        {
          "output_type": "stream",
          "name": "stdout",
          "text": [
            " Enter the number of rows : 5\n",
            "&\n",
            "&&\n",
            "&&&\n",
            "&&&&\n",
            "&&&&&\n"
          ]
        }
      ]
    },
    {
      "cell_type": "markdown",
      "metadata": {
        "id": "IE37pDYJRkWM"
      },
      "source": [
        "Write a function that prints all the prime numbers between 0 and max where max is a parameter"
      ]
    },
    {
      "cell_type": "code",
      "metadata": {
        "colab": {
          "base_uri": "https://localhost:8080/"
        },
        "id": "_SVSwA64RuDx",
        "outputId": "b45a92f8-5b98-4c02-c933-6d4b8e6d2569"
      },
      "source": [
        "def printprime(max):\n",
        "  for i in range(2, max):\n",
        "    p = 1\n",
        "    for j in range(2,i):\n",
        "      if i%j == 0:\n",
        "        p = 0\n",
        "        break\n",
        "    if p:     # True if p=1(True=1), False if p=0(False=0)\n",
        "      print(i)\n",
        "max = int(input(\" Enter max : \"))\n",
        "printprime(max)"
      ],
      "execution_count": 51,
      "outputs": [
        {
          "output_type": "stream",
          "name": "stdout",
          "text": [
            " Enter max : 20\n",
            "2\n",
            "3\n",
            "5\n",
            "7\n",
            "11\n",
            "13\n",
            "17\n",
            "19\n"
          ]
        }
      ]
    },
    {
      "cell_type": "markdown",
      "metadata": {
        "id": "Kp4jyxZLig-x"
      },
      "source": [
        "Quick Sort"
      ]
    },
    {
      "cell_type": "code",
      "metadata": {
        "colab": {
          "base_uri": "https://localhost:8080/"
        },
        "id": "5EdpvVgmii2R",
        "outputId": "1e9a027c-8791-4c29-dd79-d7ef55071787"
      },
      "source": [
        "# Much fewer lines of code compared to other programming languages\n",
        "def quicksort(arr):\n",
        "    if len(arr) <= 1:\n",
        "        return arr\n",
        "    pivot = arr[len(arr) // 2]\n",
        "    left = [x for x in arr if x < pivot]\n",
        "    middle = [x for x in arr if x == pivot]\n",
        "    right = [x for x in arr if x > pivot]\n",
        "    return quicksort(left) + middle + quicksort(right)\n",
        "print(quicksort([3,6,8,10,1,2,1]))"
      ],
      "execution_count": 52,
      "outputs": [
        {
          "output_type": "stream",
          "name": "stdout",
          "text": [
            "[1, 1, 2, 3, 6, 8, 10]\n"
          ]
        }
      ]
    }
  ]
}